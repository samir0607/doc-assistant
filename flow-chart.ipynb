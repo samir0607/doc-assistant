{
 "cells": [
  {
   "cell_type": "code",
   "execution_count": 8,
   "metadata": {},
   "outputs": [],
   "source": [
    "from graphviz import Digraph\n",
    "\n",
    "def create_final_flowchart():\n",
    "    dot = Digraph('Final_RocketChat_Workflow', format='png')\n",
    "    dot.attr(rankdir='LR', size='100,100')\n",
    "\n",
    "    # Main Workflow Nodes\n",
    "    dot.node('A', 'User Input\\n(Question)')\n",
    "    dot.node('B', 'Check Query Complexity')\n",
    "    dot.node('C1', 'Simple Query Branch')\n",
    "    dot.node('C2', 'Complex Query Branch')\n",
    "    dot.node('D', 'Generate Embedding\\n(Self-deployable Model)')\n",
    "    dot.node('E', 'Query AstraDB\\n(Top-K Docs)')\n",
    "    dot.node('F', 'Web Search\\n(Latest Docs)')\n",
    "    dot.node('G', 'Optional Reranking\\n(Semantic Relevance)')\n",
    "    dot.node('H', 'Fine-tuned Compact LLM\\n(\"Ask the Docs Assistant\")')\n",
    "    dot.node('I', 'Generate Final Answer\\n(Markdown Response)')\n",
    "    \n",
    "    # Feedback Loop Nodes\n",
    "    dot.node('J', 'Client-side Feedback\\n(Collection Widget)')\n",
    "    dot.node('K', 'Serverless API Endpoint')\n",
    "    dot.node('L', 'Serverless DB\\n(Feedback Storage)')\n",
    "    dot.node('M', 'Scheduled Processing\\n(Analysis & Aggregation)')\n",
    "    dot.node('N', 'Automated Retraining\\n/Parameter Tuning')\n",
    "    dot.node('O', 'Updated Model\\n(Production Deployment)')\n",
    "\n",
    "    # Main Workflow Edges\n",
    "    dot.edge('A', 'B', label='User Question')\n",
    "    dot.edge('B', 'C1', label='Simple')\n",
    "    dot.edge('B', 'C2', label='Complex')\n",
    "    dot.edge('C1', 'D', label='Proceed')\n",
    "    dot.edge('C2', 'D', label='Proceed')\n",
    "    dot.edge('D', 'E', label='Embedding Vector')\n",
    "    dot.edge('E', 'H', label='Retrieve Context')\n",
    "    dot.edge('C2', 'F', label='If Complex')\n",
    "    dot.edge('F', 'G', label='Augment Context')\n",
    "    dot.edge('G', 'H', label='Merge Results')\n",
    "    dot.edge('H', 'I', label='Generate Answer')\n",
    "    \n",
    "    # Feedback Loop Edges\n",
    "    dot.edge('I', 'J', label='Display Answer & Collect Feedback')\n",
    "    dot.edge('J', 'K', label='Submit Feedback')\n",
    "    dot.edge('K', 'L', label='Store Feedback')\n",
    "    dot.edge('L', 'M', label='Process & Analyze')\n",
    "    dot.edge('M', 'N', label='Identify Updates')\n",
    "    dot.edge('N', 'O', label='Trigger Retraining')\n",
    "    dot.edge('O', 'H', label='Update Model')\n",
    "\n",
    "    # Optionally, connect updated model back to system feedback loop\n",
    "    dot.edge('O', 'I', style='dotted', label='Improved Responses')\n",
    "\n",
    "    # Render and save the diagram\n",
    "    dot.render(filename='final_rocketchat_agentic_workflow_with_feedback', cleanup=True)\n",
    "\n",
    "create_final_flowchart()\n"
   ]
  },
  {
   "cell_type": "code",
   "execution_count": null,
   "metadata": {},
   "outputs": [],
   "source": []
  }
 ],
 "metadata": {
  "kernelspec": {
   "display_name": "Python 3",
   "language": "python",
   "name": "python3"
  },
  "language_info": {
   "codemirror_mode": {
    "name": "ipython",
    "version": 3
   },
   "file_extension": ".py",
   "mimetype": "text/x-python",
   "name": "python",
   "nbconvert_exporter": "python",
   "pygments_lexer": "ipython3",
   "version": "3.12.3"
  }
 },
 "nbformat": 4,
 "nbformat_minor": 2
}
